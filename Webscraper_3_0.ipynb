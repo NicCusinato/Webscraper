{
  "nbformat": 4,
  "nbformat_minor": 0,
  "metadata": {
    "colab": {
      "provenance": [],
      "collapsed_sections": [
        "aMpF9ElvtSPu",
        "SIrzthrDtYX9",
        "Bfhzt04-tbEe",
        "8y5JKj8stMYk"
      ],
      "authorship_tag": "ABX9TyNy3IiBSKc8i0AaqKyRMFf8",
      "include_colab_link": true
    },
    "kernelspec": {
      "name": "python3",
      "display_name": "Python 3"
    },
    "language_info": {
      "name": "python"
    }
  },
  "cells": [
    {
      "cell_type": "markdown",
      "metadata": {
        "id": "view-in-github",
        "colab_type": "text"
      },
      "source": [
        "<a href=\"https://colab.research.google.com/github/NicCusinato/Webscraper/blob/3.0-For-Single-File-Output/Webscraper_3_0.ipynb\" target=\"_parent\"><img src=\"https://colab.research.google.com/assets/colab-badge.svg\" alt=\"Open In Colab\"/></a>"
      ]
    },
    {
      "cell_type": "markdown",
      "source": [
        "**Webscraper 3.0 is used to clean up the output and give you one file showing the missing dropdowns on the main page compared to the others**"
      ],
      "metadata": {
        "id": "uphIvJqytjG-"
      }
    },
    {
      "cell_type": "markdown",
      "source": [
        "# Setting up Selenium Enviornment"
      ],
      "metadata": {
        "id": "aMpF9ElvtSPu"
      }
    },
    {
      "cell_type": "code",
      "source": [
        "import os\n",
        "import time\n",
        "!apt-get update\n",
        "!apt install chromium-browser\n",
        "!pip install google-colab-selenium\n",
        "!pip install chromedriver-autoinstaller\n",
        "import chromedriver_autoinstaller\n",
        "import google_colab_selenium as gs"
      ],
      "metadata": {
        "colab": {
          "base_uri": "https://localhost:8080/"
        },
        "collapsed": true,
        "id": "RoNBDUzCoLEz",
        "outputId": "08d85693-0e69-4c5a-bb91-501b54f4e14f"
      },
      "execution_count": 1,
      "outputs": [
        {
          "output_type": "stream",
          "name": "stdout",
          "text": [
            "\r0% [Working]\r            \rHit:1 https://cloud.r-project.org/bin/linux/ubuntu jammy-cran40/ InRelease\n",
            "Hit:2 https://developer.download.nvidia.com/compute/cuda/repos/ubuntu2204/x86_64  InRelease\n",
            "Get:3 https://dl.google.com/linux/chrome/deb stable InRelease [1,825 B]\n",
            "Hit:4 http://security.ubuntu.com/ubuntu jammy-security InRelease\n",
            "Hit:5 http://archive.ubuntu.com/ubuntu jammy InRelease\n",
            "Ign:6 https://r2u.stat.illinois.edu/ubuntu jammy InRelease\n",
            "Hit:7 https://r2u.stat.illinois.edu/ubuntu jammy Release\n",
            "Hit:8 http://archive.ubuntu.com/ubuntu jammy-updates InRelease\n",
            "Hit:9 http://archive.ubuntu.com/ubuntu jammy-backports InRelease\n",
            "Get:10 https://dl.google.com/linux/chrome/deb stable/main amd64 Packages [1,086 B]\n",
            "Hit:11 https://ppa.launchpadcontent.net/deadsnakes/ppa/ubuntu jammy InRelease\n",
            "Hit:12 https://ppa.launchpadcontent.net/graphics-drivers/ppa/ubuntu jammy InRelease\n",
            "Hit:13 https://ppa.launchpadcontent.net/ubuntugis/ppa/ubuntu jammy InRelease\n",
            "Fetched 2,911 B in 4s (653 B/s)\n",
            "Reading package lists... Done\n",
            "W: Skipping acquire of configured file 'main/source/Sources' as repository 'https://r2u.stat.illinois.edu/ubuntu jammy InRelease' does not seem to provide it (sources.list entry misspelt?)\n",
            "Reading package lists... Done\n",
            "Building dependency tree... Done\n",
            "Reading state information... Done\n",
            "chromium-browser is already the newest version (1:85.0.4183.83-0ubuntu2.22.04.1).\n",
            "0 upgraded, 0 newly installed, 0 to remove and 4 not upgraded.\n",
            "Requirement already satisfied: google-colab-selenium in /usr/local/lib/python3.10/dist-packages (1.0.14)\n",
            "Requirement already satisfied: selenium in /usr/local/lib/python3.10/dist-packages (from google-colab-selenium) (4.25.0)\n",
            "Requirement already satisfied: urllib3<3,>=1.26 in /usr/local/lib/python3.10/dist-packages (from urllib3[socks]<3,>=1.26->selenium->google-colab-selenium) (2.2.3)\n",
            "Requirement already satisfied: trio~=0.17 in /usr/local/lib/python3.10/dist-packages (from selenium->google-colab-selenium) (0.26.2)\n",
            "Requirement already satisfied: trio-websocket~=0.9 in /usr/local/lib/python3.10/dist-packages (from selenium->google-colab-selenium) (0.11.1)\n",
            "Requirement already satisfied: certifi>=2021.10.8 in /usr/local/lib/python3.10/dist-packages (from selenium->google-colab-selenium) (2024.8.30)\n",
            "Requirement already satisfied: typing_extensions~=4.9 in /usr/local/lib/python3.10/dist-packages (from selenium->google-colab-selenium) (4.12.2)\n",
            "Requirement already satisfied: websocket-client~=1.8 in /usr/local/lib/python3.10/dist-packages (from selenium->google-colab-selenium) (1.8.0)\n",
            "Requirement already satisfied: attrs>=23.2.0 in /usr/local/lib/python3.10/dist-packages (from trio~=0.17->selenium->google-colab-selenium) (24.2.0)\n",
            "Requirement already satisfied: sortedcontainers in /usr/local/lib/python3.10/dist-packages (from trio~=0.17->selenium->google-colab-selenium) (2.4.0)\n",
            "Requirement already satisfied: idna in /usr/local/lib/python3.10/dist-packages (from trio~=0.17->selenium->google-colab-selenium) (3.10)\n",
            "Requirement already satisfied: outcome in /usr/local/lib/python3.10/dist-packages (from trio~=0.17->selenium->google-colab-selenium) (1.3.0.post0)\n",
            "Requirement already satisfied: sniffio>=1.3.0 in /usr/local/lib/python3.10/dist-packages (from trio~=0.17->selenium->google-colab-selenium) (1.3.1)\n",
            "Requirement already satisfied: exceptiongroup in /usr/local/lib/python3.10/dist-packages (from trio~=0.17->selenium->google-colab-selenium) (1.2.2)\n",
            "Requirement already satisfied: wsproto>=0.14 in /usr/local/lib/python3.10/dist-packages (from trio-websocket~=0.9->selenium->google-colab-selenium) (1.2.0)\n",
            "Requirement already satisfied: pysocks!=1.5.7,<2.0,>=1.5.6 in /usr/local/lib/python3.10/dist-packages (from urllib3[socks]<3,>=1.26->selenium->google-colab-selenium) (1.7.1)\n",
            "Requirement already satisfied: h11<1,>=0.9.0 in /usr/local/lib/python3.10/dist-packages (from wsproto>=0.14->trio-websocket~=0.9->selenium->google-colab-selenium) (0.14.0)\n",
            "Requirement already satisfied: chromedriver-autoinstaller in /usr/local/lib/python3.10/dist-packages (0.6.4)\n",
            "Requirement already satisfied: packaging>=23.1 in /usr/local/lib/python3.10/dist-packages (from chromedriver-autoinstaller) (24.1)\n"
          ]
        }
      ]
    },
    {
      "cell_type": "markdown",
      "source": [
        "#Run Enviornment"
      ],
      "metadata": {
        "id": "SIrzthrDtYX9"
      }
    },
    {
      "cell_type": "code",
      "source": [
        "# Set up your WebDriver (make sure you have the correct path to your chromedriver)\n",
        "driver = gs.Chrome()"
      ],
      "metadata": {
        "colab": {
          "base_uri": "https://localhost:8080/",
          "height": 80
        },
        "id": "Kmizn5G4q7rf",
        "outputId": "ca26e472-b20e-440d-b8d5-e25cec2b0a55"
      },
      "execution_count": 2,
      "outputs": [
        {
          "output_type": "display_data",
          "data": {
            "text/plain": [
              "<IPython.core.display.HTML object>"
            ],
            "text/html": [
              "\n",
              "            <div class=\"spinner-container\">\n",
              "                <div class=\"spinner\" id=\"57d38fcd-6e01-49a4-a879-8529fa1a3202-circle\"></div>\n",
              "                <div class=\"spinner-text\" id=\"57d38fcd-6e01-49a4-a879-8529fa1a3202-text\">Updating and upgrading APT</div>\n",
              "            </div>\n",
              "            <style>\n",
              "                @keyframes spin {\n",
              "                    from { transform: rotate(0deg); }\n",
              "                    to { transform: rotate(360deg); }\n",
              "                }\n",
              "\n",
              "                .spinner-container {\n",
              "                    display: flex;\n",
              "                    align-items: center;\n",
              "                    margin-bottom: 3px;\n",
              "                }\n",
              "\n",
              "                .spinner {\n",
              "                    border: 3px solid rgba(0, 0, 0, 0.1);\n",
              "                    border-left-color: lightblue;\n",
              "                    border-radius: 50%;\n",
              "                    width: 12px;\n",
              "                    height: 12px;\n",
              "                    animation: spin 1s linear infinite;\n",
              "                }\n",
              "\n",
              "                .spinner-text {\n",
              "                    padding-left: 6px;\n",
              "                }\n",
              "            </style>\n",
              "        "
            ]
          },
          "metadata": {}
        },
        {
          "output_type": "display_data",
          "data": {
            "text/plain": [
              "<IPython.core.display.Javascript object>"
            ],
            "application/javascript": [
              "\n",
              "            const element = document.getElementById(\"57d38fcd-6e01-49a4-a879-8529fa1a3202-circle\");\n",
              "            element.style.border = \"3px solid limegreen\";\n",
              "            element.style.animation = \"none\";\n",
              "\n",
              "            const text = document.getElementById(\"57d38fcd-6e01-49a4-a879-8529fa1a3202-text\");\n",
              "            text.innerText = \"Updated and upgraded APT\";\n",
              "        "
            ]
          },
          "metadata": {}
        },
        {
          "output_type": "display_data",
          "data": {
            "text/plain": [
              "<IPython.core.display.HTML object>"
            ],
            "text/html": [
              "\n",
              "            <div class=\"spinner-container\">\n",
              "                <div class=\"spinner\" id=\"238b0cd9-5b82-4cb5-97c7-968ffca45f1a-circle\"></div>\n",
              "                <div class=\"spinner-text\" id=\"238b0cd9-5b82-4cb5-97c7-968ffca45f1a-text\">Downloading Google Chrome</div>\n",
              "            </div>\n",
              "            <style>\n",
              "                @keyframes spin {\n",
              "                    from { transform: rotate(0deg); }\n",
              "                    to { transform: rotate(360deg); }\n",
              "                }\n",
              "\n",
              "                .spinner-container {\n",
              "                    display: flex;\n",
              "                    align-items: center;\n",
              "                    margin-bottom: 3px;\n",
              "                }\n",
              "\n",
              "                .spinner {\n",
              "                    border: 3px solid rgba(0, 0, 0, 0.1);\n",
              "                    border-left-color: lightblue;\n",
              "                    border-radius: 50%;\n",
              "                    width: 12px;\n",
              "                    height: 12px;\n",
              "                    animation: spin 1s linear infinite;\n",
              "                }\n",
              "\n",
              "                .spinner-text {\n",
              "                    padding-left: 6px;\n",
              "                }\n",
              "            </style>\n",
              "        "
            ]
          },
          "metadata": {}
        },
        {
          "output_type": "display_data",
          "data": {
            "text/plain": [
              "<IPython.core.display.Javascript object>"
            ],
            "application/javascript": [
              "\n",
              "            const element = document.getElementById(\"238b0cd9-5b82-4cb5-97c7-968ffca45f1a-circle\");\n",
              "            element.style.border = \"3px solid limegreen\";\n",
              "            element.style.animation = \"none\";\n",
              "\n",
              "            const text = document.getElementById(\"238b0cd9-5b82-4cb5-97c7-968ffca45f1a-text\");\n",
              "            text.innerText = \"Downloaded Google Chrome\";\n",
              "        "
            ]
          },
          "metadata": {}
        },
        {
          "output_type": "display_data",
          "data": {
            "text/plain": [
              "<IPython.core.display.HTML object>"
            ],
            "text/html": [
              "\n",
              "            <div class=\"spinner-container\">\n",
              "                <div class=\"spinner\" id=\"93a1057e-74d9-46d2-bb0b-4cade7788d1c-circle\"></div>\n",
              "                <div class=\"spinner-text\" id=\"93a1057e-74d9-46d2-bb0b-4cade7788d1c-text\">Initializing Chromedriver</div>\n",
              "            </div>\n",
              "            <style>\n",
              "                @keyframes spin {\n",
              "                    from { transform: rotate(0deg); }\n",
              "                    to { transform: rotate(360deg); }\n",
              "                }\n",
              "\n",
              "                .spinner-container {\n",
              "                    display: flex;\n",
              "                    align-items: center;\n",
              "                    margin-bottom: 3px;\n",
              "                }\n",
              "\n",
              "                .spinner {\n",
              "                    border: 3px solid rgba(0, 0, 0, 0.1);\n",
              "                    border-left-color: lightblue;\n",
              "                    border-radius: 50%;\n",
              "                    width: 12px;\n",
              "                    height: 12px;\n",
              "                    animation: spin 1s linear infinite;\n",
              "                }\n",
              "\n",
              "                .spinner-text {\n",
              "                    padding-left: 6px;\n",
              "                }\n",
              "            </style>\n",
              "        "
            ]
          },
          "metadata": {}
        },
        {
          "output_type": "display_data",
          "data": {
            "text/plain": [
              "<IPython.core.display.Javascript object>"
            ],
            "application/javascript": [
              "\n",
              "            const element = document.getElementById(\"93a1057e-74d9-46d2-bb0b-4cade7788d1c-circle\");\n",
              "            element.style.border = \"3px solid limegreen\";\n",
              "            element.style.animation = \"none\";\n",
              "\n",
              "            const text = document.getElementById(\"93a1057e-74d9-46d2-bb0b-4cade7788d1c-text\");\n",
              "            text.innerText = \"Initialized Chromedriver\";\n",
              "        "
            ]
          },
          "metadata": {}
        }
      ]
    },
    {
      "cell_type": "markdown",
      "source": [
        "#Scrape Pages"
      ],
      "metadata": {
        "id": "Bfhzt04-tbEe"
      }
    },
    {
      "cell_type": "code",
      "execution_count": null,
      "metadata": {
        "id": "nkqMUnfvnnjI"
      },
      "outputs": [],
      "source": [
        "from selenium import webdriver\n",
        "from selenium.webdriver.common.by import By\n",
        "from selenium.webdriver.support.ui import WebDriverWait\n",
        "from selenium.webdriver.support import expected_conditions as EC\n",
        "from selenium.common.exceptions import ElementNotInteractableException, TimeoutException, NoSuchElementException\n",
        "import time\n",
        "\n",
        "\n",
        "# Function to scrape dropdown (listbox) options from a page\n",
        "def get_custom_dropdown_options(url):\n",
        "    driver.get(url)\n",
        "    time.sleep(2)  # Give the page some time to load fully\n",
        "\n",
        "    # Scroll the entire page to ensure all lazy-loaded content is rendered\n",
        "    driver.execute_script(\"window.scrollTo(0, document.body.scrollHeight);\")\n",
        "    time.sleep(2)  # Wait for page scroll and any lazy-loaded content to render\n",
        "    driver.execute_script(\"window.scrollTo(0, 0);\")\n",
        "\n",
        "    # Find all button elements that act as listboxes\n",
        "    dropdown_buttons = driver.find_elements(By.CSS_SELECTOR, 'button[aria-haspopup=\"listbox\"]')\n",
        "    options_dict = {}\n",
        "    missed_dropdowns = []\n",
        "\n",
        "    # Loop through each dropdown button and extract options\n",
        "    for index, button in enumerate(dropdown_buttons):\n",
        "        try:\n",
        "            # Scroll into view if necessary\n",
        "            driver.execute_script(\"arguments[0].scrollIntoView(true);\", button)\n",
        "            time.sleep(0.5)  # Small delay to ensure smooth scrolling\n",
        "\n",
        "            # Get the label of the dropdown, if available\n",
        "            label_element = button.find_element(By.CLASS_NAME, 'swan-listbox-button-label')\n",
        "            dropdown_label = label_element.text if label_element else f\"Unnamed dropdown {index + 1}\"\n",
        "\n",
        "            # Click the button to expand the dropdown (listbox)\n",
        "            WebDriverWait(driver, 10).until(EC.element_to_be_clickable(button)).click()\n",
        "            time.sleep(1)  # Wait for the dropdown to expand\n",
        "\n",
        "            # Find all the options within the listbox\n",
        "            option_elements = driver.find_elements(By.CSS_SELECTOR, 'li[role=\"option\"]')\n",
        "\n",
        "            option_values = []\n",
        "            for option in option_elements:\n",
        "                data_key = option.get_attribute(\"data-key\")  # Get the data-key attribute\n",
        "                visible_text = option.find_element(By.CLASS_NAME, 'swan-listbox-option-text-container').text  # Get the visible text\n",
        "                option_values.append({\n",
        "                    \"data_key\": data_key,\n",
        "                    \"visible_text\": visible_text,\n",
        "                    \"source_url\": url  # Track the source URL for each option\n",
        "                })\n",
        "\n",
        "            # Store the dropdown label and its associated options\n",
        "            options_dict[dropdown_label] = option_values\n",
        "\n",
        "            # Click somewhere outside the dropdown to close it (e.g., the body of the page)\n",
        "            driver.find_element(By.TAG_NAME, 'body').click()\n",
        "            time.sleep(0.5)  # Ensure the dropdown is fully closed before moving on\n",
        "        except (ElementNotInteractableException, TimeoutException, NoSuchElementException) as e:\n",
        "            print(f\"Could not interact with dropdown {index + 1}: {e}\")\n",
        "            missed_dropdowns.append(f\"Dropdown {index + 1}: {e}\")\n",
        "        except Exception as e:\n",
        "            print(f\"An unexpected error occurred: {e}\")\n",
        "            missed_dropdowns.append(f\"Dropdown {index + 1}: {e}\")\n",
        "\n",
        "    return options_dict, missed_dropdowns\n",
        "\n",
        "# Save dropdown options to a file\n",
        "def save_to_file(filename, options_dict):\n",
        "    with open(filename, 'w') as f:\n",
        "        for dropdown_label, options in options_dict.items():\n",
        "            f.write(f\"Dropdown: {dropdown_label}\\n\")\n",
        "            for option in options:\n",
        "                f.write(f\"Option: {option['visible_text']} (data-key: {option['data_key']})\\n\")\n",
        "            f.write(\"\\n\")\n",
        "\n",
        "# Save missed dropdowns to a file for troubleshooting\n",
        "def save_missed_to_file(filename, missed_dropdowns):\n",
        "    with open(filename, 'w') as f:\n",
        "        for error_message in missed_dropdowns:\n",
        "            f.write(f\"{error_message}\\n\")\n",
        "\n",
        "# Compare options between the base page and a list of other pages\n",
        "def compare_options(base_options, other_options):\n",
        "    missing_in_base = {}\n",
        "    missing_in_other = {}\n",
        "    option_sources = {}\n",
        "\n",
        "    # Collect sources for options in other pages\n",
        "    for dropdown_label, options in other_options.items():\n",
        "        for option in options:\n",
        "            data_key = option['data_key']\n",
        "            if dropdown_label not in option_sources:\n",
        "                option_sources[dropdown_label] = {}\n",
        "            if data_key not in option_sources[dropdown_label]:\n",
        "                option_sources[dropdown_label][data_key] = []\n",
        "            option_sources[dropdown_label][data_key].append(option['source_url'])\n",
        "\n",
        "    # Compare options and find missing ones\n",
        "    for dropdown_label, options in other_options.items():\n",
        "        base_option_keys = {opt['data_key'] for opt in base_options.get(dropdown_label, [])}\n",
        "        other_option_keys = {opt['data_key'] for opt in options}\n",
        "\n",
        "        # Find options that exist in other but not in base\n",
        "        missing_in_base[dropdown_label] = {key: option_sources[dropdown_label][key]\n",
        "                                            for key in other_option_keys - base_option_keys}\n",
        "\n",
        "        # Find options that exist in base but not in other\n",
        "        missing_in_other[dropdown_label] = {key: option_sources[dropdown_label].get(key, []) # Use .get() with a default value\n",
        "                                             for key in base_option_keys - other_option_keys if key in option_sources[dropdown_label]} # Only include keys present in option_sources\n",
        "\n",
        "    return missing_in_base, missing_in_other\n",
        "\n",
        "# Example usage\n",
        "base_url = \"https://www.vistaprint.com/labels-stickers/custom-stickers/single-stickers\"\n",
        "base_dropdown_options, missed_dropdowns = get_custom_dropdown_options(base_url)\n",
        "\n",
        "# Save base page options to a file\n",
        "save_to_file('base_page_options.txt', base_dropdown_options)\n",
        "\n",
        "# Save missed dropdowns to a separate file\n",
        "if missed_dropdowns:\n",
        "    save_missed_to_file('missed_dropdowns.txt', missed_dropdowns)\n",
        "\n",
        "# Queue of other URLs to compare against the base URL\n",
        "other_urls = [\n",
        "    \"https://www.vistaprint.com/labels-stickers/custom-stickers/die-cut-sticker-singles\",\n",
        "    \"https://www.vistaprint.com/labels-stickers/custom-stickers/holographic-stickers\",\n",
        "    \"https://www.vistaprint.com/labels-stickers/custom-stickers/face-stickers\",\n",
        "    \"https://www.vistaprint.com/labels-stickers/custom-stickers/party-stickers\",\n",
        "    \"https://www.vistaprint.com/labels-stickers/custom-stickers/reusable-stickers\"\n",
        "]\n",
        "\n",
        "# Scrape options from each URL in the queue\n",
        "all_other_options = {}\n",
        "for other_url in other_urls:\n",
        "    options, missed = get_custom_dropdown_options(other_url)\n",
        "    all_other_options.update(options)\n",
        "\n",
        "# Compare options\n",
        "missing_in_base, missing_in_other = compare_options(base_dropdown_options, all_other_options)\n",
        "\n",
        "# Save missing options to a file\n",
        "with open('missing_options.txt', 'w') as f:\n",
        "    f.write(\"Options in other pages but not in the base page:\\n\\n\")\n",
        "    for dropdown_label, missing_options in missing_in_base.items():\n",
        "        if missing_options:\n",
        "            f.write(f\"Dropdown: {dropdown_label}\\n\")\n",
        "            for option_key, sources in missing_options.items():\n",
        "                f.write(f\"Missing Option (data-key): {option_key} found in pages: {', '.join(sources)}\\n\")\n",
        "            f.write(\"\\n\")\n",
        "\n",
        "    f.write(\"Options in the base page but not in other pages:\\n\\n\")\n",
        "    for dropdown_label, missing_options in missing_in_other.items():\n",
        "        if missing_options:\n",
        "            f.write(f\"Dropdown: {dropdown_label}\\n\")\n",
        "            for option_key, sources in missing_options.items():\n",
        "                f.write(f\"Missing Option (data-key): {option_key} found in base page\\n\")\n",
        "            f.write(\"\\n\")\n",
        "\n",
        "\n"
      ]
    },
    {
      "cell_type": "markdown",
      "source": [
        "# Close Enviornment\n"
      ],
      "metadata": {
        "id": "8y5JKj8stMYk"
      }
    },
    {
      "cell_type": "code",
      "source": [
        "# Close the WebDriver\n",
        "driver.quit()"
      ],
      "metadata": {
        "id": "WAuLKpHFtLyM"
      },
      "execution_count": null,
      "outputs": []
    }
  ]
}