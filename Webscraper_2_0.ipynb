{
  "nbformat": 4,
  "nbformat_minor": 0,
  "metadata": {
    "colab": {
      "provenance": [],
      "collapsed_sections": [
        "kd9Hs3ARMO65",
        "5DVpbVM5MaAJ",
        "xs0xf0mQMgyx",
        "nXxoeLuGMmUS",
        "jzQzY7RYMpoi"
      ],
      "authorship_tag": "ABX9TyNMCDIEpkrTgvGqFZhRo1Pb",
      "include_colab_link": true
    },
    "kernelspec": {
      "name": "python3",
      "display_name": "Python 3"
    },
    "language_info": {
      "name": "python"
    }
  },
  "cells": [
    {
      "cell_type": "markdown",
      "metadata": {
        "id": "view-in-github",
        "colab_type": "text"
      },
      "source": [
        "<a href=\"https://colab.research.google.com/github/NicCusinato/Webscraper/blob/main/Webscraper_2_0.ipynb\" target=\"_parent\"><img src=\"https://colab.research.google.com/assets/colab-badge.svg\" alt=\"Open In Colab\"/></a>"
      ]
    },
    {
      "cell_type": "markdown",
      "source": [
        "**Webscraper 2.0 is used to show each dropdown for all the websites you gave it, can use it to manually compare what is available on each page**"
      ],
      "metadata": {
        "id": "jVgNG5EHtyAK"
      }
    },
    {
      "cell_type": "markdown",
      "source": [
        "# Setting up Seliunium Environment"
      ],
      "metadata": {
        "id": "kd9Hs3ARMO65"
      }
    },
    {
      "source": [
        "import os\n",
        "import time\n",
        "!apt-get update\n",
        "!apt install chromium-browser\n",
        "!pip install google-colab-selenium\n",
        "!pip install chromedriver-autoinstaller\n",
        "import chromedriver_autoinstaller\n",
        "import google_colab_selenium as gs\n",
        "\n"
      ],
      "cell_type": "code",
      "metadata": {
        "colab": {
          "base_uri": "https://localhost:8080/",
          "height": 742
        },
        "id": "VpNFojmnPBDU",
        "outputId": "38afabd8-0c2c-4aa8-e0f8-273a2fe4b56c"
      },
      "execution_count": 2,
      "outputs": [
        {
          "output_type": "stream",
          "name": "stdout",
          "text": [
            "\r0% [Working]\r            \rHit:1 https://cloud.r-project.org/bin/linux/ubuntu jammy-cran40/ InRelease\n",
            "\r0% [Connecting to archive.ubuntu.com (91.189.91.81)] [Waiting for headers] [Connected to r2u.stat.il\r                                                                                                    \rHit:2 http://security.ubuntu.com/ubuntu jammy-security InRelease\n",
            "\r0% [Waiting for headers] [Connected to r2u.stat.illinois.edu (192.17.190.167)] [Waiting for headers]\r                                                                                                    \rHit:3 http://archive.ubuntu.com/ubuntu jammy InRelease\n",
            "\r0% [Waiting for headers] [Waiting for headers] [Connecting to ppa.launchpadcontent.net (185.125.190.\r                                                                                                    \rHit:4 http://archive.ubuntu.com/ubuntu jammy-updates InRelease\n",
            "\r0% [Waiting for headers] [Waiting for headers] [Connected to ppa.launchpadcontent.net (185.125.190.8\r                                                                                                    \rHit:5 https://developer.download.nvidia.com/compute/cuda/repos/ubuntu2204/x86_64  InRelease\n",
            "\r0% [Waiting for headers] [Waiting for headers] [Connected to ppa.launchpadcontent.net (185.125.190.8\r                                                                                                    \rHit:6 http://archive.ubuntu.com/ubuntu jammy-backports InRelease\n",
            "\r                                                                                                    \r0% [Waiting for headers] [Connected to ppa.launchpadcontent.net (185.125.190.80)]\r                                                                                 \rIgn:7 https://r2u.stat.illinois.edu/ubuntu jammy InRelease\n",
            "Hit:8 https://r2u.stat.illinois.edu/ubuntu jammy Release\n",
            "Hit:10 https://ppa.launchpadcontent.net/deadsnakes/ppa/ubuntu jammy InRelease\n",
            "Hit:11 https://ppa.launchpadcontent.net/graphics-drivers/ppa/ubuntu jammy InRelease\n",
            "Hit:12 https://ppa.launchpadcontent.net/ubuntugis/ppa/ubuntu jammy InRelease\n",
            "Reading package lists... Done\n",
            "W: Skipping acquire of configured file 'main/source/Sources' as repository 'https://r2u.stat.illinois.edu/ubuntu jammy InRelease' does not seem to provide it (sources.list entry misspelt?)\n",
            "Reading package lists... Done\n",
            "Building dependency tree... Done\n",
            "Reading state information... Done\n",
            "chromium-browser is already the newest version (1:85.0.4183.83-0ubuntu2.22.04.1).\n",
            "0 upgraded, 0 newly installed, 0 to remove and 48 not upgraded.\n",
            "Requirement already satisfied: google-colab-selenium in /usr/local/lib/python3.10/dist-packages (1.0.14)\n",
            "Requirement already satisfied: selenium in /usr/local/lib/python3.10/dist-packages (from google-colab-selenium) (4.25.0)\n",
            "Requirement already satisfied: urllib3<3,>=1.26 in /usr/local/lib/python3.10/dist-packages (from urllib3[socks]<3,>=1.26->selenium->google-colab-selenium) (2.2.3)\n",
            "Requirement already satisfied: trio~=0.17 in /usr/local/lib/python3.10/dist-packages (from selenium->google-colab-selenium) (0.26.2)\n",
            "Requirement already satisfied: trio-websocket~=0.9 in /usr/local/lib/python3.10/dist-packages (from selenium->google-colab-selenium) (0.11.1)\n",
            "Requirement already satisfied: certifi>=2021.10.8 in /usr/local/lib/python3.10/dist-packages (from selenium->google-colab-selenium) (2024.8.30)\n",
            "Requirement already satisfied: typing_extensions~=4.9 in /usr/local/lib/python3.10/dist-packages (from selenium->google-colab-selenium) (4.12.2)\n",
            "Requirement already satisfied: websocket-client~=1.8 in /usr/local/lib/python3.10/dist-packages (from selenium->google-colab-selenium) (1.8.0)\n",
            "Requirement already satisfied: attrs>=23.2.0 in /usr/local/lib/python3.10/dist-packages (from trio~=0.17->selenium->google-colab-selenium) (24.2.0)\n",
            "Requirement already satisfied: sortedcontainers in /usr/local/lib/python3.10/dist-packages (from trio~=0.17->selenium->google-colab-selenium) (2.4.0)\n",
            "Requirement already satisfied: idna in /usr/local/lib/python3.10/dist-packages (from trio~=0.17->selenium->google-colab-selenium) (3.10)\n",
            "Requirement already satisfied: outcome in /usr/local/lib/python3.10/dist-packages (from trio~=0.17->selenium->google-colab-selenium) (1.3.0.post0)\n",
            "Requirement already satisfied: sniffio>=1.3.0 in /usr/local/lib/python3.10/dist-packages (from trio~=0.17->selenium->google-colab-selenium) (1.3.1)\n",
            "Requirement already satisfied: exceptiongroup in /usr/local/lib/python3.10/dist-packages (from trio~=0.17->selenium->google-colab-selenium) (1.2.2)\n",
            "Requirement already satisfied: wsproto>=0.14 in /usr/local/lib/python3.10/dist-packages (from trio-websocket~=0.9->selenium->google-colab-selenium) (1.2.0)\n",
            "Requirement already satisfied: pysocks!=1.5.7,<2.0,>=1.5.6 in /usr/local/lib/python3.10/dist-packages (from urllib3[socks]<3,>=1.26->selenium->google-colab-selenium) (1.7.1)\n",
            "Requirement already satisfied: h11<1,>=0.9.0 in /usr/local/lib/python3.10/dist-packages (from wsproto>=0.14->trio-websocket~=0.9->selenium->google-colab-selenium) (0.14.0)\n",
            "Requirement already satisfied: chromedriver-autoinstaller in /usr/local/lib/python3.10/dist-packages (0.6.4)\n",
            "Requirement already satisfied: packaging>=23.1 in /usr/local/lib/python3.10/dist-packages (from chromedriver-autoinstaller) (24.1)\n"
          ]
        },
        {
          "output_type": "display_data",
          "data": {
            "text/plain": [
              "<IPython.core.display.HTML object>"
            ],
            "text/html": [
              "\n",
              "            <div class=\"spinner-container\">\n",
              "                <div class=\"spinner\" id=\"c658353a-73c7-481f-a232-420da7a4f1bc-circle\"></div>\n",
              "                <div class=\"spinner-text\" id=\"c658353a-73c7-481f-a232-420da7a4f1bc-text\">Updating and upgrading APT</div>\n",
              "            </div>\n",
              "            <style>\n",
              "                @keyframes spin {\n",
              "                    from { transform: rotate(0deg); }\n",
              "                    to { transform: rotate(360deg); }\n",
              "                }\n",
              "\n",
              "                .spinner-container {\n",
              "                    display: flex;\n",
              "                    align-items: center;\n",
              "                    margin-bottom: 3px;\n",
              "                }\n",
              "\n",
              "                .spinner {\n",
              "                    border: 3px solid rgba(0, 0, 0, 0.1);\n",
              "                    border-left-color: lightblue;\n",
              "                    border-radius: 50%;\n",
              "                    width: 12px;\n",
              "                    height: 12px;\n",
              "                    animation: spin 1s linear infinite;\n",
              "                }\n",
              "\n",
              "                .spinner-text {\n",
              "                    padding-left: 6px;\n",
              "                }\n",
              "            </style>\n",
              "        "
            ]
          },
          "metadata": {}
        },
        {
          "output_type": "display_data",
          "data": {
            "text/plain": [
              "<IPython.core.display.Javascript object>"
            ],
            "application/javascript": [
              "\n",
              "            const element = document.getElementById(\"c658353a-73c7-481f-a232-420da7a4f1bc-circle\");\n",
              "            element.style.border = \"3px solid limegreen\";\n",
              "            element.style.animation = \"none\";\n",
              "\n",
              "            const text = document.getElementById(\"c658353a-73c7-481f-a232-420da7a4f1bc-text\");\n",
              "            text.innerText = \"Updated and upgraded APT\";\n",
              "        "
            ]
          },
          "metadata": {}
        },
        {
          "output_type": "display_data",
          "data": {
            "text/plain": [
              "<IPython.core.display.HTML object>"
            ],
            "text/html": [
              "\n",
              "            <div class=\"spinner-container\">\n",
              "                <div class=\"spinner\" id=\"1ee9f5de-1e42-47a7-8090-87ac70eafd03-circle\"></div>\n",
              "                <div class=\"spinner-text\" id=\"1ee9f5de-1e42-47a7-8090-87ac70eafd03-text\">Downloading Google Chrome</div>\n",
              "            </div>\n",
              "            <style>\n",
              "                @keyframes spin {\n",
              "                    from { transform: rotate(0deg); }\n",
              "                    to { transform: rotate(360deg); }\n",
              "                }\n",
              "\n",
              "                .spinner-container {\n",
              "                    display: flex;\n",
              "                    align-items: center;\n",
              "                    margin-bottom: 3px;\n",
              "                }\n",
              "\n",
              "                .spinner {\n",
              "                    border: 3px solid rgba(0, 0, 0, 0.1);\n",
              "                    border-left-color: lightblue;\n",
              "                    border-radius: 50%;\n",
              "                    width: 12px;\n",
              "                    height: 12px;\n",
              "                    animation: spin 1s linear infinite;\n",
              "                }\n",
              "\n",
              "                .spinner-text {\n",
              "                    padding-left: 6px;\n",
              "                }\n",
              "            </style>\n",
              "        "
            ]
          },
          "metadata": {}
        },
        {
          "output_type": "display_data",
          "data": {
            "text/plain": [
              "<IPython.core.display.Javascript object>"
            ],
            "application/javascript": [
              "\n",
              "            const element = document.getElementById(\"1ee9f5de-1e42-47a7-8090-87ac70eafd03-circle\");\n",
              "            element.style.border = \"3px solid limegreen\";\n",
              "            element.style.animation = \"none\";\n",
              "\n",
              "            const text = document.getElementById(\"1ee9f5de-1e42-47a7-8090-87ac70eafd03-text\");\n",
              "            text.innerText = \"Downloaded Google Chrome\";\n",
              "        "
            ]
          },
          "metadata": {}
        },
        {
          "output_type": "display_data",
          "data": {
            "text/plain": [
              "<IPython.core.display.HTML object>"
            ],
            "text/html": [
              "\n",
              "            <div class=\"spinner-container\">\n",
              "                <div class=\"spinner\" id=\"3f66826d-2157-46f2-8225-ccfa2c516d48-circle\"></div>\n",
              "                <div class=\"spinner-text\" id=\"3f66826d-2157-46f2-8225-ccfa2c516d48-text\">Initializing Chromedriver</div>\n",
              "            </div>\n",
              "            <style>\n",
              "                @keyframes spin {\n",
              "                    from { transform: rotate(0deg); }\n",
              "                    to { transform: rotate(360deg); }\n",
              "                }\n",
              "\n",
              "                .spinner-container {\n",
              "                    display: flex;\n",
              "                    align-items: center;\n",
              "                    margin-bottom: 3px;\n",
              "                }\n",
              "\n",
              "                .spinner {\n",
              "                    border: 3px solid rgba(0, 0, 0, 0.1);\n",
              "                    border-left-color: lightblue;\n",
              "                    border-radius: 50%;\n",
              "                    width: 12px;\n",
              "                    height: 12px;\n",
              "                    animation: spin 1s linear infinite;\n",
              "                }\n",
              "\n",
              "                .spinner-text {\n",
              "                    padding-left: 6px;\n",
              "                }\n",
              "            </style>\n",
              "        "
            ]
          },
          "metadata": {}
        },
        {
          "output_type": "display_data",
          "data": {
            "text/plain": [
              "<IPython.core.display.Javascript object>"
            ],
            "application/javascript": [
              "\n",
              "            const element = document.getElementById(\"3f66826d-2157-46f2-8225-ccfa2c516d48-circle\");\n",
              "            element.style.border = \"3px solid limegreen\";\n",
              "            element.style.animation = \"none\";\n",
              "\n",
              "            const text = document.getElementById(\"3f66826d-2157-46f2-8225-ccfa2c516d48-text\");\n",
              "            text.innerText = \"Initialized Chromedriver\";\n",
              "        "
            ]
          },
          "metadata": {}
        }
      ]
    },
    {
      "cell_type": "markdown",
      "source": [
        "# Run Environment"
      ],
      "metadata": {
        "id": "j35Ja3xqbYYK"
      }
    },
    {
      "cell_type": "code",
      "source": [
        "driver = gs.Chrome()"
      ],
      "metadata": {
        "colab": {
          "base_uri": "https://localhost:8080/",
          "height": 38
        },
        "id": "zcY32hSnbXPq",
        "outputId": "ae1e8c29-be4a-43ec-d30a-0d3da26b5eef"
      },
      "execution_count": 23,
      "outputs": [
        {
          "output_type": "display_data",
          "data": {
            "text/plain": [
              "<IPython.core.display.HTML object>"
            ],
            "text/html": [
              "\n",
              "            <div class=\"spinner-container\">\n",
              "                <div class=\"spinner\" id=\"eb626c96-e28a-479b-9de2-c73d59a7a5f4-circle\"></div>\n",
              "                <div class=\"spinner-text\" id=\"eb626c96-e28a-479b-9de2-c73d59a7a5f4-text\">Initializing Chromedriver</div>\n",
              "            </div>\n",
              "            <style>\n",
              "                @keyframes spin {\n",
              "                    from { transform: rotate(0deg); }\n",
              "                    to { transform: rotate(360deg); }\n",
              "                }\n",
              "\n",
              "                .spinner-container {\n",
              "                    display: flex;\n",
              "                    align-items: center;\n",
              "                    margin-bottom: 3px;\n",
              "                }\n",
              "\n",
              "                .spinner {\n",
              "                    border: 3px solid rgba(0, 0, 0, 0.1);\n",
              "                    border-left-color: lightblue;\n",
              "                    border-radius: 50%;\n",
              "                    width: 12px;\n",
              "                    height: 12px;\n",
              "                    animation: spin 1s linear infinite;\n",
              "                }\n",
              "\n",
              "                .spinner-text {\n",
              "                    padding-left: 6px;\n",
              "                }\n",
              "            </style>\n",
              "        "
            ]
          },
          "metadata": {}
        },
        {
          "output_type": "display_data",
          "data": {
            "text/plain": [
              "<IPython.core.display.Javascript object>"
            ],
            "application/javascript": [
              "\n",
              "            const element = document.getElementById(\"eb626c96-e28a-479b-9de2-c73d59a7a5f4-circle\");\n",
              "            element.style.border = \"3px solid limegreen\";\n",
              "            element.style.animation = \"none\";\n",
              "\n",
              "            const text = document.getElementById(\"eb626c96-e28a-479b-9de2-c73d59a7a5f4-text\");\n",
              "            text.innerText = \"Initialized Chromedriver\";\n",
              "        "
            ]
          },
          "metadata": {}
        }
      ]
    },
    {
      "cell_type": "markdown",
      "source": [
        "# Drop Down Extraction Function"
      ],
      "metadata": {
        "id": "5DVpbVM5MaAJ"
      }
    },
    {
      "cell_type": "code",
      "source": [
        "from selenium.webdriver.common.by import By\n",
        "from selenium.webdriver.support.ui import WebDriverWait\n",
        "from selenium.webdriver.support import expected_conditions as EC\n",
        "from selenium.common.exceptions import ElementNotInteractableException, TimeoutException\n",
        "import time\n",
        "\n",
        "# Function to scrape dropdown (listbox) options from a page\n",
        "def get_custom_dropdown_options(url):\n",
        "    driver.get(url)\n",
        "    time.sleep(2)  # Give the page some time to load\n",
        "\n",
        "    # Find all button elements that act as listboxes\n",
        "    dropdown_buttons = driver.find_elements(By.CSS_SELECTOR, 'button[aria-haspopup=\"listbox\"]')\n",
        "    options_dict = {}\n",
        "\n",
        "    # Loop through each dropdown button and extract options\n",
        "    for index, button in enumerate(dropdown_buttons):\n",
        "        try:\n",
        "            # Scroll into view if necessary\n",
        "            driver.execute_script(\"arguments[0].scrollIntoView(true);\", button)\n",
        "            time.sleep(0.5)  # Small delay to ensure smooth scrolling\n",
        "\n",
        "            # Get the label of the dropdown, if available\n",
        "            label_element = button.find_element(By.CLASS_NAME, 'swan-listbox-button-label')\n",
        "            dropdown_label = label_element.text if label_element else f\"Unnamed dropdown {index + 1}\"\n",
        "\n",
        "            # Click the button to expand the dropdown (listbox)\n",
        "            WebDriverWait(driver, 10).until(EC.element_to_be_clickable(button)).click()\n",
        "            time.sleep(1)  # Wait for the dropdown to expand\n",
        "\n",
        "            # Find all the options within the listbox\n",
        "            option_elements = driver.find_elements(By.CSS_SELECTOR, 'li[role=\"option\"]')\n",
        "\n",
        "            option_values = []\n",
        "            for option in option_elements:\n",
        "                data_key = option.get_attribute(\"data-key\")  # Get the data-key attribute\n",
        "                visible_text = option.find_element(By.CLASS_NAME, 'swan-listbox-option-text-container').text  # Get the visible text\n",
        "                option_values.append({\n",
        "                    \"data_key\": data_key,\n",
        "                    \"visible_text\": visible_text\n",
        "                })\n",
        "\n",
        "            # Store the dropdown label and its associated options\n",
        "            options_dict[dropdown_label] = option_values\n",
        "\n",
        "            # Click somewhere outside the dropdown to close it (e.g., the body of the page)\n",
        "            driver.find_element(By.TAG_NAME, 'body').click()\n",
        "            time.sleep(0.5)  # Ensure the dropdown is fully closed before moving on\n",
        "        except (ElementNotInteractableException, TimeoutException) as e:\n",
        "            print(f\"Could not interact with dropdown {index + 1}: {e}\")\n",
        "        except Exception as e:\n",
        "            print(f\"An unexpected error occurred: {e}\")\n",
        "\n",
        "    return options_dict"
      ],
      "metadata": {
        "id": "8N-FUPemMgEK"
      },
      "execution_count": 36,
      "outputs": []
    },
    {
      "cell_type": "markdown",
      "source": [
        "# Comparision Function"
      ],
      "metadata": {
        "id": "xs0xf0mQMgyx"
      }
    },
    {
      "cell_type": "code",
      "source": [
        "# Function to compare dropdowns in both directions with exception handling\n",
        "def compare_dropdowns(base_options, compare_options):\n",
        "    comparison_results = {\n",
        "        \"missing_in_compare\": {},  # Base page options missing in compare page\n",
        "        \"missing_in_base\": {}      # Compare page options missing in base page\n",
        "    }\n",
        "\n",
        "    # Loop through base dropdown options and compare with compare_options\n",
        "    for dropdown_id, base_vals in base_options.items():\n",
        "        compare_vals = compare_options.get(dropdown_id, [])\n",
        "\n",
        "        # Convert dictionaries to hashable frozensets based on their items\n",
        "        base_set = set(frozenset(d.items()) for d in base_vals)\n",
        "        compare_set = set(frozenset(d.items()) for d in compare_vals)\n",
        "\n",
        "        # Handle missing dropdown keys using set comparison\n",
        "        try:\n",
        "            # Missing options in compare page\n",
        "            missing_in_compare = base_set - compare_set\n",
        "            if missing_in_compare:\n",
        "                # Convert frozensets back to dictionaries\n",
        "                missing_dicts = [dict(items) for items in missing_in_compare]\n",
        "                comparison_results[\"missing_in_compare\"][dropdown_id] = missing_dicts\n",
        "        except KeyError:\n",
        "            print(f\"Dropdown ID '{dropdown_id}' not found in compare page options\")\n",
        "\n",
        "        try:\n",
        "            # Missing options in base page\n",
        "            missing_in_base = compare_set - base_set\n",
        "            if missing_in_base:\n",
        "                # Convert frozensets back to dictionaries\n",
        "                missing_dicts = [dict(items) for items in missing_in_base]\n",
        "                comparison_results[\"missing_in_base\"][dropdown_id] = missing_dicts\n",
        "        except KeyError:\n",
        "            print(f\"Dropdown ID '{dropdown_id}' not found in base page options\")\n",
        "\n",
        "    return comparison_results"
      ],
      "metadata": {
        "id": "vKD9-KHfMlrK"
      },
      "execution_count": 28,
      "outputs": []
    },
    {
      "cell_type": "markdown",
      "source": [
        "# Scrape Pages"
      ],
      "metadata": {
        "id": "nXxoeLuGMmUS"
      }
    },
    {
      "cell_type": "code",
      "source": [
        "# Save dropdown options to a file\n",
        "def save_to_file(filename, options_dict):\n",
        "    with open(filename, 'w') as f:\n",
        "        for dropdown_label, options in options_dict.items():\n",
        "            f.write(f\"Dropdown: {dropdown_label}\\n\")\n",
        "            for option in options:\n",
        "                f.write(f\"Option: {option['visible_text']} (data-key: {option['data_key']})\\n\")\n",
        "            f.write(\"\\n\")\n",
        "\n",
        "# Define your base URL (the main product page you're comparing against)\n",
        "base_url = \"https://www.vistaprint.com/labels-stickers/custom-stickers/single-stickers\"\n",
        "\n",
        "# Define a queue of URLs to compare with the base page\n",
        "urls_to_compare = [\n",
        "    \"https://www.vistaprint.com/labels-stickers/custom-stickers/die-cut-sticker-singles\",\n",
        "    \"https://www.vistaprint.com/labels-stickers/custom-stickers/holographic-stickers\",\n",
        "    \"https://www.vistaprint.com/labels-stickers/custom-stickers/face-stickers\",\n",
        "    \"https://www.vistaprint.com/labels-stickers/custom-stickers/party-stickers\",\n",
        "    \"https://www.vistaprint.com/labels-stickers/custom-stickers/reusable-stickers\"\n",
        "    # Add more URLs here\n",
        "]\n",
        "\n",
        "# Get the dropdown options for the base page\n",
        "base_dropdown_options = get_custom_dropdown_options(base_url)\n",
        "\n",
        "# Save base page options to a file\n",
        "save_to_file('base_page_options.txt', base_dropdown_options)\n",
        "\n",
        "# Loop through the other pages and compare the dropdown options\n",
        "for url in urls_to_compare:\n",
        "    print(f\"Comparing with {url}\")\n",
        "    compare_dropdown_options = get_custom_dropdown_options(url)\n",
        "\n",
        "    # Save compare page options to a file\n",
        "    filename = url.split(\"//\")[1].replace(\"/\", \"_\") + '_options.txt'\n",
        "    save_to_file(filename, compare_dropdown_options)\n",
        "\n",
        "    # Perform two-way comparison (this function is unchanged)\n",
        "    comparison_results = compare_dropdowns(base_dropdown_options, compare_dropdown_options)\n",
        "\n",
        "    if comparison_results[\"missing_in_compare\"]:\n",
        "        print(f\"Options missing in {url} (compared to base page): {comparison_results['missing_in_compare']}\")\n",
        "    if comparison_results[\"missing_in_base\"]:\n",
        "        print(f\"Options missing in base page (but present in {url}): {comparison_results['missing_in_base']}\")\n",
        "    if not comparison_results[\"missing_in_compare\"] and not comparison_results[\"missing_in_base\"]:\n",
        "        print(f\"All options match between base page and {url}.\")"
      ],
      "metadata": {
        "colab": {
          "base_uri": "https://localhost:8080/",
          "height": 842
        },
        "id": "BGGxlwzGdZrg",
        "outputId": "ee4204da-0ce9-456d-a376-43eec22aa4d5"
      },
      "execution_count": 35,
      "outputs": [
        {
          "output_type": "error",
          "ename": "NameError",
          "evalue": "name 'NoSuchElementException' is not defined",
          "traceback": [
            "\u001b[0;31m---------------------------------------------------------------------------\u001b[0m",
            "\u001b[0;31mNoSuchElementException\u001b[0m                    Traceback (most recent call last)",
            "\u001b[0;32m<ipython-input-34-912b7e00bf6f>\u001b[0m in \u001b[0;36mget_custom_dropdown_options\u001b[0;34m(url)\u001b[0m\n\u001b[1;32m     37\u001b[0m                 \u001b[0mdata_key\u001b[0m \u001b[0;34m=\u001b[0m \u001b[0moption\u001b[0m\u001b[0;34m.\u001b[0m\u001b[0mget_attribute\u001b[0m\u001b[0;34m(\u001b[0m\u001b[0;34m\"data-key\"\u001b[0m\u001b[0;34m)\u001b[0m  \u001b[0;31m# Get the data-key attribute\u001b[0m\u001b[0;34m\u001b[0m\u001b[0;34m\u001b[0m\u001b[0m\n\u001b[0;32m---> 38\u001b[0;31m                 \u001b[0mvisible_text\u001b[0m \u001b[0;34m=\u001b[0m \u001b[0moption\u001b[0m\u001b[0;34m.\u001b[0m\u001b[0mfind_element\u001b[0m\u001b[0;34m(\u001b[0m\u001b[0mBy\u001b[0m\u001b[0;34m.\u001b[0m\u001b[0mCLASS_NAME\u001b[0m\u001b[0;34m,\u001b[0m \u001b[0;34m'swan-listbox-option-text-container'\u001b[0m\u001b[0;34m)\u001b[0m\u001b[0;34m.\u001b[0m\u001b[0mtext\u001b[0m  \u001b[0;31m# Get the visible text\u001b[0m\u001b[0;34m\u001b[0m\u001b[0;34m\u001b[0m\u001b[0m\n\u001b[0m\u001b[1;32m     39\u001b[0m                 option_values.append({\n",
            "\u001b[0;32m/usr/local/lib/python3.10/dist-packages/selenium/webdriver/remote/webelement.py\u001b[0m in \u001b[0;36mfind_element\u001b[0;34m(self, by, value)\u001b[0m\n\u001b[1;32m    416\u001b[0m \u001b[0;34m\u001b[0m\u001b[0m\n\u001b[0;32m--> 417\u001b[0;31m         \u001b[0;32mreturn\u001b[0m \u001b[0mself\u001b[0m\u001b[0;34m.\u001b[0m\u001b[0m_execute\u001b[0m\u001b[0;34m(\u001b[0m\u001b[0mCommand\u001b[0m\u001b[0;34m.\u001b[0m\u001b[0mFIND_CHILD_ELEMENT\u001b[0m\u001b[0;34m,\u001b[0m \u001b[0;34m{\u001b[0m\u001b[0;34m\"using\"\u001b[0m\u001b[0;34m:\u001b[0m \u001b[0mby\u001b[0m\u001b[0;34m,\u001b[0m \u001b[0;34m\"value\"\u001b[0m\u001b[0;34m:\u001b[0m \u001b[0mvalue\u001b[0m\u001b[0;34m}\u001b[0m\u001b[0;34m)\u001b[0m\u001b[0;34m[\u001b[0m\u001b[0;34m\"value\"\u001b[0m\u001b[0;34m]\u001b[0m\u001b[0;34m\u001b[0m\u001b[0;34m\u001b[0m\u001b[0m\n\u001b[0m\u001b[1;32m    418\u001b[0m \u001b[0;34m\u001b[0m\u001b[0m\n",
            "\u001b[0;32m/usr/local/lib/python3.10/dist-packages/selenium/webdriver/remote/webelement.py\u001b[0m in \u001b[0;36m_execute\u001b[0;34m(self, command, params)\u001b[0m\n\u001b[1;32m    394\u001b[0m         \u001b[0mparams\u001b[0m\u001b[0;34m[\u001b[0m\u001b[0;34m\"id\"\u001b[0m\u001b[0;34m]\u001b[0m \u001b[0;34m=\u001b[0m \u001b[0mself\u001b[0m\u001b[0;34m.\u001b[0m\u001b[0m_id\u001b[0m\u001b[0;34m\u001b[0m\u001b[0;34m\u001b[0m\u001b[0m\n\u001b[0;32m--> 395\u001b[0;31m         \u001b[0;32mreturn\u001b[0m \u001b[0mself\u001b[0m\u001b[0;34m.\u001b[0m\u001b[0m_parent\u001b[0m\u001b[0;34m.\u001b[0m\u001b[0mexecute\u001b[0m\u001b[0;34m(\u001b[0m\u001b[0mcommand\u001b[0m\u001b[0;34m,\u001b[0m \u001b[0mparams\u001b[0m\u001b[0;34m)\u001b[0m\u001b[0;34m\u001b[0m\u001b[0;34m\u001b[0m\u001b[0m\n\u001b[0m\u001b[1;32m    396\u001b[0m \u001b[0;34m\u001b[0m\u001b[0m\n",
            "\u001b[0;32m/usr/local/lib/python3.10/dist-packages/selenium/webdriver/remote/webdriver.py\u001b[0m in \u001b[0;36mexecute\u001b[0;34m(self, driver_command, params)\u001b[0m\n\u001b[1;32m    353\u001b[0m         \u001b[0;32mif\u001b[0m \u001b[0mresponse\u001b[0m\u001b[0;34m:\u001b[0m\u001b[0;34m\u001b[0m\u001b[0;34m\u001b[0m\u001b[0m\n\u001b[0;32m--> 354\u001b[0;31m             \u001b[0mself\u001b[0m\u001b[0;34m.\u001b[0m\u001b[0merror_handler\u001b[0m\u001b[0;34m.\u001b[0m\u001b[0mcheck_response\u001b[0m\u001b[0;34m(\u001b[0m\u001b[0mresponse\u001b[0m\u001b[0;34m)\u001b[0m\u001b[0;34m\u001b[0m\u001b[0;34m\u001b[0m\u001b[0m\n\u001b[0m\u001b[1;32m    355\u001b[0m             \u001b[0mresponse\u001b[0m\u001b[0;34m[\u001b[0m\u001b[0;34m\"value\"\u001b[0m\u001b[0;34m]\u001b[0m \u001b[0;34m=\u001b[0m \u001b[0mself\u001b[0m\u001b[0;34m.\u001b[0m\u001b[0m_unwrap_value\u001b[0m\u001b[0;34m(\u001b[0m\u001b[0mresponse\u001b[0m\u001b[0;34m.\u001b[0m\u001b[0mget\u001b[0m\u001b[0;34m(\u001b[0m\u001b[0;34m\"value\"\u001b[0m\u001b[0;34m,\u001b[0m \u001b[0;32mNone\u001b[0m\u001b[0;34m)\u001b[0m\u001b[0;34m)\u001b[0m\u001b[0;34m\u001b[0m\u001b[0;34m\u001b[0m\u001b[0m\n",
            "\u001b[0;32m/usr/local/lib/python3.10/dist-packages/selenium/webdriver/remote/errorhandler.py\u001b[0m in \u001b[0;36mcheck_response\u001b[0;34m(self, response)\u001b[0m\n\u001b[1;32m    228\u001b[0m             \u001b[0;32mraise\u001b[0m \u001b[0mexception_class\u001b[0m\u001b[0;34m(\u001b[0m\u001b[0mmessage\u001b[0m\u001b[0;34m,\u001b[0m \u001b[0mscreen\u001b[0m\u001b[0;34m,\u001b[0m \u001b[0mstacktrace\u001b[0m\u001b[0;34m,\u001b[0m \u001b[0malert_text\u001b[0m\u001b[0;34m)\u001b[0m  \u001b[0;31m# type: ignore[call-arg]  # mypy is not smart enough here\u001b[0m\u001b[0;34m\u001b[0m\u001b[0;34m\u001b[0m\u001b[0m\n\u001b[0;32m--> 229\u001b[0;31m         \u001b[0;32mraise\u001b[0m \u001b[0mexception_class\u001b[0m\u001b[0;34m(\u001b[0m\u001b[0mmessage\u001b[0m\u001b[0;34m,\u001b[0m \u001b[0mscreen\u001b[0m\u001b[0;34m,\u001b[0m \u001b[0mstacktrace\u001b[0m\u001b[0;34m)\u001b[0m\u001b[0;34m\u001b[0m\u001b[0;34m\u001b[0m\u001b[0m\n\u001b[0m",
            "\u001b[0;31mNoSuchElementException\u001b[0m: Message: no such element: Unable to locate element: {\"method\":\"css selector\",\"selector\":\".swan-listbox-option-text-container\"}\n  (Session info: chrome=129.0.6668.89); For documentation on this error, please visit: https://www.selenium.dev/documentation/webdriver/troubleshooting/errors#no-such-element-exception\nStacktrace:\n#0 0x5840fcc0a02a <unknown>\n#1 0x5840fc8f05e0 <unknown>\n#2 0x5840fc93fbe8 <unknown>\n#3 0x5840fc93fe81 <unknown>\n#4 0x5840fc934586 <unknown>\n#5 0x5840fc964b4d <unknown>\n#6 0x5840fc934478 <unknown>\n#7 0x5840fc964cee <unknown>\n#8 0x5840fc983d7d <unknown>\n#9 0x5840fc9648c3 <unknown>\n#10 0x5840fc9326b3 <unknown>\n#11 0x5840fc93368e <unknown>\n#12 0x5840fcbd4a2b <unknown>\n#13 0x5840fcbd89b1 <unknown>\n#14 0x5840fcbc1225 <unknown>\n#15 0x5840fcbd9532 <unknown>\n#16 0x5840fcba638f <unknown>\n#17 0x5840fcbf8f28 <unknown>\n#18 0x5840fcbf90f3 <unknown>\n#19 0x5840fcc08e7c <unknown>\n#20 0x7bc4eb75cac3 <unknown>\n",
            "\nDuring handling of the above exception, another exception occurred:\n",
            "\u001b[0;31mNameError\u001b[0m                                 Traceback (most recent call last)",
            "\u001b[0;32m<ipython-input-35-838e13a2e5b3>\u001b[0m in \u001b[0;36m<cell line: 24>\u001b[0;34m()\u001b[0m\n\u001b[1;32m     22\u001b[0m \u001b[0;34m\u001b[0m\u001b[0m\n\u001b[1;32m     23\u001b[0m \u001b[0;31m# Get the dropdown options for the base page\u001b[0m\u001b[0;34m\u001b[0m\u001b[0;34m\u001b[0m\u001b[0m\n\u001b[0;32m---> 24\u001b[0;31m \u001b[0mbase_dropdown_options\u001b[0m \u001b[0;34m=\u001b[0m \u001b[0mget_custom_dropdown_options\u001b[0m\u001b[0;34m(\u001b[0m\u001b[0mbase_url\u001b[0m\u001b[0;34m)\u001b[0m\u001b[0;34m\u001b[0m\u001b[0;34m\u001b[0m\u001b[0m\n\u001b[0m\u001b[1;32m     25\u001b[0m \u001b[0;34m\u001b[0m\u001b[0m\n\u001b[1;32m     26\u001b[0m \u001b[0;31m# Save base page options to a file\u001b[0m\u001b[0;34m\u001b[0m\u001b[0;34m\u001b[0m\u001b[0m\n",
            "\u001b[0;32m<ipython-input-34-912b7e00bf6f>\u001b[0m in \u001b[0;36mget_custom_dropdown_options\u001b[0;34m(url)\u001b[0m\n\u001b[1;32m     47\u001b[0m             \u001b[0mdriver\u001b[0m\u001b[0;34m.\u001b[0m\u001b[0mfind_element\u001b[0m\u001b[0;34m(\u001b[0m\u001b[0mBy\u001b[0m\u001b[0;34m.\u001b[0m\u001b[0mTAG_NAME\u001b[0m\u001b[0;34m,\u001b[0m \u001b[0;34m'body'\u001b[0m\u001b[0;34m)\u001b[0m\u001b[0;34m.\u001b[0m\u001b[0mclick\u001b[0m\u001b[0;34m(\u001b[0m\u001b[0;34m)\u001b[0m\u001b[0;34m\u001b[0m\u001b[0;34m\u001b[0m\u001b[0m\n\u001b[1;32m     48\u001b[0m             \u001b[0mtime\u001b[0m\u001b[0;34m.\u001b[0m\u001b[0msleep\u001b[0m\u001b[0;34m(\u001b[0m\u001b[0;36m0.5\u001b[0m\u001b[0;34m)\u001b[0m\u001b[0;34m\u001b[0m\u001b[0;34m\u001b[0m\u001b[0m\n\u001b[0;32m---> 49\u001b[0;31m         \u001b[0;32mexcept\u001b[0m \u001b[0;34m(\u001b[0m\u001b[0mElementNotInteractableException\u001b[0m\u001b[0;34m,\u001b[0m \u001b[0mTimeoutException\u001b[0m\u001b[0;34m,\u001b[0m \u001b[0mNoSuchElementException\u001b[0m\u001b[0;34m)\u001b[0m \u001b[0;32mas\u001b[0m \u001b[0me\u001b[0m\u001b[0;34m:\u001b[0m\u001b[0;34m\u001b[0m\u001b[0;34m\u001b[0m\u001b[0m\n\u001b[0m\u001b[1;32m     50\u001b[0m             \u001b[0mprint\u001b[0m\u001b[0;34m(\u001b[0m\u001b[0;34mf\"Could not interact with dropdown {index + 1}: {e}\"\u001b[0m\u001b[0;34m)\u001b[0m\u001b[0;34m\u001b[0m\u001b[0;34m\u001b[0m\u001b[0m\n\u001b[1;32m     51\u001b[0m             \u001b[0mmissed_dropdowns\u001b[0m\u001b[0;34m.\u001b[0m\u001b[0mappend\u001b[0m\u001b[0;34m(\u001b[0m\u001b[0;34mf\"Dropdown {index + 1}: {e}\"\u001b[0m\u001b[0;34m)\u001b[0m\u001b[0;34m\u001b[0m\u001b[0;34m\u001b[0m\u001b[0m\n",
            "\u001b[0;31mNameError\u001b[0m: name 'NoSuchElementException' is not defined"
          ]
        }
      ]
    },
    {
      "cell_type": "markdown",
      "source": [
        "# Close Environment"
      ],
      "metadata": {
        "id": "jzQzY7RYMpoi"
      }
    },
    {
      "cell_type": "code",
      "source": [
        "driver.quit()\n"
      ],
      "metadata": {
        "id": "xyEop-XhMtxj"
      },
      "execution_count": 37,
      "outputs": []
    }
  ]
}